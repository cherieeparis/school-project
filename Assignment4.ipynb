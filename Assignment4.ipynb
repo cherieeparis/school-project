{
 "cells": [
  {
   "cell_type": "markdown",
   "id": "8a58d1d8",
   "metadata": {},
   "source": [
    "## Part 1: Build a classification model using text data"
   ]
  },
  {
   "cell_type": "markdown",
   "id": "eb180746",
   "metadata": {},
   "source": [
    "## "
   ]
  },
  {
   "cell_type": "markdown",
   "id": "265da326",
   "metadata": {},
   "source": [
    "The data consists of headlines that signify clickbait or not.  Training and test data are stored in the following objects: X_train, X_test, y_train_labels, y_test_labels.  The remaining objects can be ignored.\n",
    "\n",
    "Use cross-validation to evaluate the results. Use a robust metric for classification  (AUC or F1-Score for example), and inspect all models by visualizing the coefficients. (See helper function in our in class notebook for text models.)\n",
    "\n",
    "To complete part one of the homework do the following:\n",
    "\n",
    "Import the text data, vectorize the clickbait headline column into an X matrix.  Then run logistic regression at least three times and select a single best model.  Note that you should create three logistic regression models with different different tokenization approaches.  You should not change your modeling approach, you should simply experiment with different tokenizers. Be sure to explain your choices and evaluate your models using cross validation and using test set data.\n"
   ]
  },
  {
   "cell_type": "code",
   "execution_count": 1,
   "id": "c5764662",
   "metadata": {},
   "outputs": [],
   "source": [
    "import pandas as pd\n",
    "import numpy as np\n",
    "import matplotlib as mpl\n",
    "import matplotlib.pyplot as plt\n",
    "import seaborn as sns\n",
    "\n",
    "from pylab import rcParams\n",
    "import math\n",
    "%matplotlib inline"
   ]
  },
  {
   "cell_type": "code",
   "execution_count": 2,
   "id": "123706e6",
   "metadata": {},
   "outputs": [
    {
     "name": "stderr",
     "output_type": "stream",
     "text": [
      "/var/folders/lz/kx0jb1cs78z2m2gstxkqjmvr0000gn/T/ipykernel_24994/3223854178.py:2: FutureWarning: The squeeze argument has been deprecated and will be removed in a future version. Append .squeeze(\"columns\") to the call to squeeze.\n",
      "\n",
      "\n",
      "  X_train = pd.read_csv(\"X_train.csv\", squeeze=True)\n",
      "/var/folders/lz/kx0jb1cs78z2m2gstxkqjmvr0000gn/T/ipykernel_24994/3223854178.py:3: FutureWarning: The squeeze argument has been deprecated and will be removed in a future version. Append .squeeze(\"columns\") to the call to squeeze.\n",
      "\n",
      "\n",
      "  y_train_labels = pd.read_csv(\"y_train.csv\", squeeze=True)\n"
     ]
    }
   ],
   "source": [
    "# input data \n",
    "X_train = pd.read_csv(\"X_train.csv\", squeeze=True)\n",
    "y_train_labels = pd.read_csv(\"y_train.csv\", squeeze=True)"
   ]
  },
  {
   "cell_type": "code",
   "execution_count": 3,
   "id": "8afac7af",
   "metadata": {},
   "outputs": [
    {
     "data": {
      "text/plain": [
       "array([1, 1, 0, ..., 0, 1, 1], dtype=uint8)"
      ]
     },
     "execution_count": 3,
     "metadata": {},
     "output_type": "execute_result"
    }
   ],
   "source": [
    "# get dummies \n",
    "y_train = pd.get_dummies(y_train_labels).values[:,1]\n",
    "y_train"
   ]
  },
  {
   "cell_type": "code",
   "execution_count": 4,
   "id": "4d007a37",
   "metadata": {},
   "outputs": [
    {
     "data": {
      "text/plain": [
       "0       MyBook Disk Drive Handles Lots of Easy Backups\n",
       "1                       CIT Posts Eighth Loss in a Row\n",
       "2    Candy Carson Singing The \"National Anthem\" Is ...\n",
       "3    Why You Need To Stop What You're Doing And Dat...\n",
       "4    27 Times Adele Proved She's Actually The Reale...\n",
       "5    29 Times #BlackGirlMagic Was More Than Just A ...\n",
       "6    Scientology ties at New Village Leadership Aca...\n",
       "7               Judge Allows Asbestos Case to Continue\n",
       "8              Cities Deal With a Surge in Shantytowns\n",
       "9                15 Reasons December Is The Best Month\n",
       "Name: headline, dtype: object"
      ]
     },
     "execution_count": 4,
     "metadata": {},
     "output_type": "execute_result"
    }
   ],
   "source": [
    "X_train.head(10)"
   ]
  },
  {
   "cell_type": "code",
   "execution_count": 5,
   "id": "ac34a99e",
   "metadata": {},
   "outputs": [],
   "source": [
    "# redefine x, y \n",
    "X = X_train\n",
    "y = y_train"
   ]
  },
  {
   "cell_type": "code",
   "execution_count": 6,
   "id": "2d8b5de7",
   "metadata": {},
   "outputs": [
    {
     "name": "stdout",
     "output_type": "stream",
     "text": [
      "(18734,)\n",
      "(18734,)\n"
     ]
    }
   ],
   "source": [
    "# set up training and test data\n",
    "# X_train, X_test, y_train_labels, y_test_labels. \n",
    "from sklearn.model_selection import train_test_split\n",
    "\n",
    "X_train, X_test, y_train_labels, y_test_labels = train_test_split(X, y, random_state=42)\n",
    "print(X_train.shape)\n",
    "print(y_train_labels.shape)"
   ]
  },
  {
   "cell_type": "code",
   "execution_count": 7,
   "id": "91a21c37",
   "metadata": {},
   "outputs": [
    {
     "name": "stdout",
     "output_type": "stream",
     "text": [
      "X1:\n",
      "<18734x17790 sparse matrix of type '<class 'numpy.int64'>'\n",
      "\twith 165328 stored elements in Compressed Sparse Row format>\n"
     ]
    }
   ],
   "source": [
    "# First tokenization approaches: CountVetorizer \n",
    "from sklearn.feature_extraction.text import CountVectorizer\n",
    "\n",
    "vect1 = CountVectorizer().fit(X_train)\n",
    "X1 = vect1.transform(X_train)\n",
    "print(\"X1:\\n{}\".format(repr(X1)))"
   ]
  },
  {
   "cell_type": "code",
   "execution_count": 8,
   "id": "b97545bb",
   "metadata": {},
   "outputs": [
    {
     "name": "stdout",
     "output_type": "stream",
     "text": [
      "Dense representation of bag_of_words:\n",
      "[[0 0 0 ... 0 0 0]\n",
      " [0 0 0 ... 0 0 0]\n",
      " [0 0 0 ... 0 0 0]\n",
      " ...\n",
      " [0 0 0 ... 0 0 0]\n",
      " [0 0 0 ... 0 0 0]\n",
      " [0 0 0 ... 0 0 0]]\n"
     ]
    }
   ],
   "source": [
    "X1_dense = X1.toarray()\n",
    "print(\"Dense representation of bag_of_words:\\n{}\".format(X1_dense))"
   ]
  },
  {
   "cell_type": "code",
   "execution_count": 9,
   "id": "c24a0f56",
   "metadata": {},
   "outputs": [
    {
     "name": "stdout",
     "output_type": "stream",
     "text": [
      "Number of features: 17790\n",
      "30 features number between 2000~2030 :\n",
      "['blew' 'blige' 'blight' 'blind' 'blindly' 'blindy' 'bling' 'blip' 'bliss'\n",
      " 'blitzed' 'blizzard' 'blob' 'blobfish' 'blobs' 'block' 'blockade'\n",
      " 'blockades' 'blockbuster' 'blocked' 'blocking' 'blocks' 'blog' 'blogger'\n",
      " 'bloggers' 'blond' 'blonde' 'blood' 'bloodshed' 'bloodstock' 'bloody']\n"
     ]
    }
   ],
   "source": [
    "feature_names1 = vect1.get_feature_names_out()\n",
    "print(\"Number of features: {}\".format(len(feature_names1)))\n",
    "print(\"30 features number between 2000~2030 :\\n{}\".format(feature_names1[2000:2030]))"
   ]
  },
  {
   "cell_type": "code",
   "execution_count": 10,
   "id": "4c7455ef",
   "metadata": {},
   "outputs": [
    {
     "name": "stdout",
     "output_type": "stream",
     "text": [
      "Mean cross-validation accuracy: 0.97\n"
     ]
    }
   ],
   "source": [
    "from sklearn.model_selection import cross_val_score\n",
    "from sklearn.linear_model import LogisticRegression\n",
    "\n",
    "scores = cross_val_score(LogisticRegression(), X1, y_train_labels, cv=5)\n",
    "print(\"Mean cross-validation accuracy: {:.2f}\".format(np.mean(scores)))"
   ]
  },
  {
   "cell_type": "code",
   "execution_count": 11,
   "id": "f17ec04e",
   "metadata": {},
   "outputs": [
    {
     "name": "stderr",
     "output_type": "stream",
     "text": [
      "/Users/yemei/anaconda3/lib/python3.11/site-packages/sklearn/linear_model/_logistic.py:458: ConvergenceWarning: lbfgs failed to converge (status=1):\n",
      "STOP: TOTAL NO. of ITERATIONS REACHED LIMIT.\n",
      "\n",
      "Increase the number of iterations (max_iter) or scale the data as shown in:\n",
      "    https://scikit-learn.org/stable/modules/preprocessing.html\n",
      "Please also refer to the documentation for alternative solver options:\n",
      "    https://scikit-learn.org/stable/modules/linear_model.html#logistic-regression\n",
      "  n_iter_i = _check_optimize_result(\n",
      "/Users/yemei/anaconda3/lib/python3.11/site-packages/sklearn/linear_model/_logistic.py:458: ConvergenceWarning: lbfgs failed to converge (status=1):\n",
      "STOP: TOTAL NO. of ITERATIONS REACHED LIMIT.\n",
      "\n",
      "Increase the number of iterations (max_iter) or scale the data as shown in:\n",
      "    https://scikit-learn.org/stable/modules/preprocessing.html\n",
      "Please also refer to the documentation for alternative solver options:\n",
      "    https://scikit-learn.org/stable/modules/linear_model.html#logistic-regression\n",
      "  n_iter_i = _check_optimize_result(\n",
      "/Users/yemei/anaconda3/lib/python3.11/site-packages/sklearn/linear_model/_logistic.py:458: ConvergenceWarning: lbfgs failed to converge (status=1):\n",
      "STOP: TOTAL NO. of ITERATIONS REACHED LIMIT.\n",
      "\n",
      "Increase the number of iterations (max_iter) or scale the data as shown in:\n",
      "    https://scikit-learn.org/stable/modules/preprocessing.html\n",
      "Please also refer to the documentation for alternative solver options:\n",
      "    https://scikit-learn.org/stable/modules/linear_model.html#logistic-regression\n",
      "  n_iter_i = _check_optimize_result(\n",
      "/Users/yemei/anaconda3/lib/python3.11/site-packages/sklearn/linear_model/_logistic.py:458: ConvergenceWarning: lbfgs failed to converge (status=1):\n",
      "STOP: TOTAL NO. of ITERATIONS REACHED LIMIT.\n",
      "\n",
      "Increase the number of iterations (max_iter) or scale the data as shown in:\n",
      "    https://scikit-learn.org/stable/modules/preprocessing.html\n",
      "Please also refer to the documentation for alternative solver options:\n",
      "    https://scikit-learn.org/stable/modules/linear_model.html#logistic-regression\n",
      "  n_iter_i = _check_optimize_result(\n",
      "/Users/yemei/anaconda3/lib/python3.11/site-packages/sklearn/linear_model/_logistic.py:458: ConvergenceWarning: lbfgs failed to converge (status=1):\n",
      "STOP: TOTAL NO. of ITERATIONS REACHED LIMIT.\n",
      "\n",
      "Increase the number of iterations (max_iter) or scale the data as shown in:\n",
      "    https://scikit-learn.org/stable/modules/preprocessing.html\n",
      "Please also refer to the documentation for alternative solver options:\n",
      "    https://scikit-learn.org/stable/modules/linear_model.html#logistic-regression\n",
      "  n_iter_i = _check_optimize_result(\n"
     ]
    },
    {
     "name": "stdout",
     "output_type": "stream",
     "text": [
      "Best cross-validation score: 0.97\n",
      "Best parameters:  {'C': 10}\n"
     ]
    },
    {
     "name": "stderr",
     "output_type": "stream",
     "text": [
      "/Users/yemei/anaconda3/lib/python3.11/site-packages/sklearn/linear_model/_logistic.py:458: ConvergenceWarning: lbfgs failed to converge (status=1):\n",
      "STOP: TOTAL NO. of ITERATIONS REACHED LIMIT.\n",
      "\n",
      "Increase the number of iterations (max_iter) or scale the data as shown in:\n",
      "    https://scikit-learn.org/stable/modules/preprocessing.html\n",
      "Please also refer to the documentation for alternative solver options:\n",
      "    https://scikit-learn.org/stable/modules/linear_model.html#logistic-regression\n",
      "  n_iter_i = _check_optimize_result(\n"
     ]
    }
   ],
   "source": [
    "# use cross-validation\n",
    "from sklearn.model_selection import GridSearchCV\n",
    "param_grid1 = {'C': [0.001, 0.01, 0.1, 1, 10]}\n",
    "grid1 = GridSearchCV(LogisticRegression(), param_grid1, cv=5) \n",
    "grid1.fit(X1, y_train_labels)\n",
    "print(\"Best cross-validation score: {:.2f}\".format(grid1.best_score_))\n",
    "print(\"Best parameters: \", grid1.best_params_)\n"
   ]
  },
  {
   "cell_type": "code",
   "execution_count": 12,
   "id": "cb13ad77",
   "metadata": {},
   "outputs": [
    {
     "name": "stdout",
     "output_type": "stream",
     "text": [
      "Test score: 0.97\n"
     ]
    }
   ],
   "source": [
    "X_test_list = X_test.tolist()\n",
    "X_test1 = vect1.transform(X_test_list)\n",
    "print(\"Test score: {:.2f}\".format(grid1.score(X_test1, y_test_labels)))"
   ]
  },
  {
   "cell_type": "markdown",
   "id": "b19caa8e",
   "metadata": {},
   "source": [
    "### In first mode, I used CountVectorizer this tokenization approach. The total number of feature is 17790. With the cross-validation, the best parameters is C=10, the test score is 97%. "
   ]
  },
  {
   "cell_type": "code",
   "execution_count": 13,
   "id": "75cb0524",
   "metadata": {},
   "outputs": [
    {
     "name": "stdout",
     "output_type": "stream",
     "text": [
      "X2:\n",
      "<18734x2341 sparse matrix of type '<class 'numpy.int64'>'\n",
      "\twith 76253 stored elements in Compressed Sparse Row format>\n"
     ]
    }
   ],
   "source": [
    "# Second tokenization approaches: narrow bag of words to words in at least 10 documents\n",
    "\n",
    "vect2 = CountVectorizer(min_df=10, stop_words='english').fit(X_train)\n",
    "X2 = vect2.transform(X_train)\n",
    "print(\"X2:\\n{}\".format(repr(X2)))"
   ]
  },
  {
   "cell_type": "code",
   "execution_count": 14,
   "id": "68ab992f",
   "metadata": {},
   "outputs": [
    {
     "name": "stdout",
     "output_type": "stream",
     "text": [
      "Dense representation of bag_of_words:\n",
      "[[0 0 0 ... 0 0 0]\n",
      " [0 0 0 ... 0 0 0]\n",
      " [0 0 0 ... 0 0 0]\n",
      " ...\n",
      " [0 0 0 ... 0 0 0]\n",
      " [0 0 0 ... 0 0 0]\n",
      " [0 0 0 ... 0 0 0]]\n"
     ]
    }
   ],
   "source": [
    "X2_dense = X2.toarray()\n",
    "print(\"Dense representation of bag_of_words:\\n{}\".format(X2_dense))"
   ]
  },
  {
   "cell_type": "code",
   "execution_count": 15,
   "id": "a2654155",
   "metadata": {},
   "outputs": [
    {
     "name": "stdout",
     "output_type": "stream",
     "text": [
      "Number of features: 2341\n",
      "30 features number between 2000~2030 :\n",
      "['steve' 'steven' 'stewart' 'stimulus' 'stock' 'stocks' 'stolen' 'stone'\n",
      " 'stop' 'stops' 'store' 'stores' 'stories' 'storm' 'story' 'straight'\n",
      " 'street' 'strike' 'strikes' 'strip' 'strong' 'struggle' 'struggles'\n",
      " 'student' 'students' 'study' 'stunning' 'style' 'styles' 'success']\n"
     ]
    }
   ],
   "source": [
    "feature_names2 = vect2.get_feature_names_out()\n",
    "print(\"Number of features: {}\".format(len(feature_names2)))\n",
    "print(\"30 features number between 2000~2030 :\\n{}\".format(feature_names2[2000:2030]))"
   ]
  },
  {
   "cell_type": "code",
   "execution_count": 16,
   "id": "38a32cb4",
   "metadata": {},
   "outputs": [
    {
     "name": "stdout",
     "output_type": "stream",
     "text": [
      "Mean cross-validation accuracy: 0.94\n"
     ]
    }
   ],
   "source": [
    "scores = cross_val_score(LogisticRegression(), X2, y_train_labels, cv=5)\n",
    "print(\"Mean cross-validation accuracy: {:.2f}\".format(np.mean(scores)))"
   ]
  },
  {
   "cell_type": "code",
   "execution_count": 17,
   "id": "e42457ab",
   "metadata": {},
   "outputs": [
    {
     "name": "stderr",
     "output_type": "stream",
     "text": [
      "/Users/yemei/anaconda3/lib/python3.11/site-packages/sklearn/linear_model/_logistic.py:458: ConvergenceWarning: lbfgs failed to converge (status=1):\n",
      "STOP: TOTAL NO. of ITERATIONS REACHED LIMIT.\n",
      "\n",
      "Increase the number of iterations (max_iter) or scale the data as shown in:\n",
      "    https://scikit-learn.org/stable/modules/preprocessing.html\n",
      "Please also refer to the documentation for alternative solver options:\n",
      "    https://scikit-learn.org/stable/modules/linear_model.html#logistic-regression\n",
      "  n_iter_i = _check_optimize_result(\n",
      "/Users/yemei/anaconda3/lib/python3.11/site-packages/sklearn/linear_model/_logistic.py:458: ConvergenceWarning: lbfgs failed to converge (status=1):\n",
      "STOP: TOTAL NO. of ITERATIONS REACHED LIMIT.\n",
      "\n",
      "Increase the number of iterations (max_iter) or scale the data as shown in:\n",
      "    https://scikit-learn.org/stable/modules/preprocessing.html\n",
      "Please also refer to the documentation for alternative solver options:\n",
      "    https://scikit-learn.org/stable/modules/linear_model.html#logistic-regression\n",
      "  n_iter_i = _check_optimize_result(\n",
      "/Users/yemei/anaconda3/lib/python3.11/site-packages/sklearn/linear_model/_logistic.py:458: ConvergenceWarning: lbfgs failed to converge (status=1):\n",
      "STOP: TOTAL NO. of ITERATIONS REACHED LIMIT.\n",
      "\n",
      "Increase the number of iterations (max_iter) or scale the data as shown in:\n",
      "    https://scikit-learn.org/stable/modules/preprocessing.html\n",
      "Please also refer to the documentation for alternative solver options:\n",
      "    https://scikit-learn.org/stable/modules/linear_model.html#logistic-regression\n",
      "  n_iter_i = _check_optimize_result(\n",
      "/Users/yemei/anaconda3/lib/python3.11/site-packages/sklearn/linear_model/_logistic.py:458: ConvergenceWarning: lbfgs failed to converge (status=1):\n",
      "STOP: TOTAL NO. of ITERATIONS REACHED LIMIT.\n",
      "\n",
      "Increase the number of iterations (max_iter) or scale the data as shown in:\n",
      "    https://scikit-learn.org/stable/modules/preprocessing.html\n",
      "Please also refer to the documentation for alternative solver options:\n",
      "    https://scikit-learn.org/stable/modules/linear_model.html#logistic-regression\n",
      "  n_iter_i = _check_optimize_result(\n"
     ]
    },
    {
     "name": "stdout",
     "output_type": "stream",
     "text": [
      "Best cross-validation score: 0.94\n",
      "Best parameters:  {'C': 1}\n"
     ]
    },
    {
     "name": "stderr",
     "output_type": "stream",
     "text": [
      "/Users/yemei/anaconda3/lib/python3.11/site-packages/sklearn/linear_model/_logistic.py:458: ConvergenceWarning: lbfgs failed to converge (status=1):\n",
      "STOP: TOTAL NO. of ITERATIONS REACHED LIMIT.\n",
      "\n",
      "Increase the number of iterations (max_iter) or scale the data as shown in:\n",
      "    https://scikit-learn.org/stable/modules/preprocessing.html\n",
      "Please also refer to the documentation for alternative solver options:\n",
      "    https://scikit-learn.org/stable/modules/linear_model.html#logistic-regression\n",
      "  n_iter_i = _check_optimize_result(\n"
     ]
    }
   ],
   "source": [
    "param_grid = {'C': [0.001, 0.01, 0.1, 1, 10]}\n",
    "grid = GridSearchCV(LogisticRegression(), param_grid, cv=5) \n",
    "grid.fit(X2, y_train_labels)\n",
    "\n",
    "print(\"Best cross-validation score: {:.2f}\".format(grid.best_score_))\n",
    "print(\"Best parameters: \", grid.best_params_)"
   ]
  },
  {
   "cell_type": "code",
   "execution_count": 18,
   "id": "aa5346d9",
   "metadata": {},
   "outputs": [
    {
     "name": "stdout",
     "output_type": "stream",
     "text": [
      "Test score: 0.93\n"
     ]
    }
   ],
   "source": [
    "X_test2 = vect2.transform(X_test_list)\n",
    "print(\"Test score: {:.2f}\".format(grid.score(X_test2, y_test_labels)))"
   ]
  },
  {
   "cell_type": "markdown",
   "id": "3341a8b4",
   "metadata": {},
   "source": [
    "### In second model, I used CountVectorizer this tokenization approach, and  narrow bag of words to words in at least 10 documents with english stopwords. There have a sparse matrix with a shape of (18734, 2341), and total number of the feature is 2341. With cross-validation, the best corss validation score is 0.94 and best parameter is C=1; the test score is 0.93. "
   ]
  },
  {
   "cell_type": "code",
   "execution_count": 19,
   "id": "328b31d1",
   "metadata": {},
   "outputs": [
    {
     "name": "stdout",
     "output_type": "stream",
     "text": [
      "X3:\n",
      "<18734x4509 sparse matrix of type '<class 'numpy.float64'>'\n",
      "\twith 143808 stored elements in Compressed Sparse Row format>\n"
     ]
    },
    {
     "name": "stderr",
     "output_type": "stream",
     "text": [
      "/Users/yemei/anaconda3/lib/python3.11/site-packages/sklearn/linear_model/_logistic.py:458: ConvergenceWarning: lbfgs failed to converge (status=1):\n",
      "STOP: TOTAL NO. of ITERATIONS REACHED LIMIT.\n",
      "\n",
      "Increase the number of iterations (max_iter) or scale the data as shown in:\n",
      "    https://scikit-learn.org/stable/modules/preprocessing.html\n",
      "Please also refer to the documentation for alternative solver options:\n",
      "    https://scikit-learn.org/stable/modules/linear_model.html#logistic-regression\n",
      "  n_iter_i = _check_optimize_result(\n",
      "/Users/yemei/anaconda3/lib/python3.11/site-packages/sklearn/linear_model/_logistic.py:458: ConvergenceWarning: lbfgs failed to converge (status=1):\n",
      "STOP: TOTAL NO. of ITERATIONS REACHED LIMIT.\n",
      "\n",
      "Increase the number of iterations (max_iter) or scale the data as shown in:\n",
      "    https://scikit-learn.org/stable/modules/preprocessing.html\n",
      "Please also refer to the documentation for alternative solver options:\n",
      "    https://scikit-learn.org/stable/modules/linear_model.html#logistic-regression\n",
      "  n_iter_i = _check_optimize_result(\n",
      "/Users/yemei/anaconda3/lib/python3.11/site-packages/sklearn/linear_model/_logistic.py:458: ConvergenceWarning: lbfgs failed to converge (status=1):\n",
      "STOP: TOTAL NO. of ITERATIONS REACHED LIMIT.\n",
      "\n",
      "Increase the number of iterations (max_iter) or scale the data as shown in:\n",
      "    https://scikit-learn.org/stable/modules/preprocessing.html\n",
      "Please also refer to the documentation for alternative solver options:\n",
      "    https://scikit-learn.org/stable/modules/linear_model.html#logistic-regression\n",
      "  n_iter_i = _check_optimize_result(\n",
      "/Users/yemei/anaconda3/lib/python3.11/site-packages/sklearn/linear_model/_logistic.py:458: ConvergenceWarning: lbfgs failed to converge (status=1):\n",
      "STOP: TOTAL NO. of ITERATIONS REACHED LIMIT.\n",
      "\n",
      "Increase the number of iterations (max_iter) or scale the data as shown in:\n",
      "    https://scikit-learn.org/stable/modules/preprocessing.html\n",
      "Please also refer to the documentation for alternative solver options:\n",
      "    https://scikit-learn.org/stable/modules/linear_model.html#logistic-regression\n",
      "  n_iter_i = _check_optimize_result(\n"
     ]
    },
    {
     "name": "stdout",
     "output_type": "stream",
     "text": [
      "Best cross-validation score: 0.97\n",
      "Best parameters:  {'C': 0.1}\n",
      "Test accuracy: 0.97\n"
     ]
    },
    {
     "name": "stderr",
     "output_type": "stream",
     "text": [
      "/Users/yemei/anaconda3/lib/python3.11/site-packages/sklearn/linear_model/_logistic.py:458: ConvergenceWarning: lbfgs failed to converge (status=1):\n",
      "STOP: TOTAL NO. of ITERATIONS REACHED LIMIT.\n",
      "\n",
      "Increase the number of iterations (max_iter) or scale the data as shown in:\n",
      "    https://scikit-learn.org/stable/modules/preprocessing.html\n",
      "Please also refer to the documentation for alternative solver options:\n",
      "    https://scikit-learn.org/stable/modules/linear_model.html#logistic-regression\n",
      "  n_iter_i = _check_optimize_result(\n"
     ]
    }
   ],
   "source": [
    "# Three tokenization approach: TfidVectorizer\n",
    "from sklearn.feature_extraction.text import TfidfVectorizer\n",
    "from sklearn.pipeline import make_pipeline\n",
    "from sklearn.metrics import accuracy_score\n",
    "\n",
    "vect3 = TfidfVectorizer(min_df=5, norm=None)\n",
    "X3 = vect3.fit_transform(X_train)\n",
    "print(\"X3:\\n{}\".format(repr(X3)))\n",
    "\n",
    "param_grid3 = {'C': [0.001, 0.01, 0.1, 1, 10]}\n",
    "grid3 = GridSearchCV(LogisticRegression(), param_grid3, cv=5)\n",
    "grid3.fit(X3, y_train_labels)\n",
    "\n",
    "# Print best parameters and cross-validation score\n",
    "print(\"Best cross-validation score: {:.2f}\".format(grid3.best_score_))\n",
    "print(\"Best parameters: \", grid3.best_params_)\n",
    "\n",
    "# Transform X_test using the fitted TfidfVectorizer\n",
    "X_test3 = vect3.transform(X_test)\n",
    "\n",
    "# Predict using the fitted Logistic Regression model\n",
    "y_pred3 = grid3.predict(X_test3)\n",
    "\n",
    "# Calculate and print the test accuracy\n",
    "test_accuracy = accuracy_score(y_test_labels, y_pred3)\n",
    "print(\"Test accuracy: {:.2f}\".format(test_accuracy))"
   ]
  },
  {
   "cell_type": "markdown",
   "id": "50571ef5",
   "metadata": {},
   "source": [
    "### In third model, TfidVectorizer was the last the tokenization approach used. With cross-validation, the best parameter is C=0.1, best cross-validation score is 0.97 and test accracy score is 0.97. "
   ]
  },
  {
   "cell_type": "code",
   "execution_count": 20,
   "id": "36f47aa3",
   "metadata": {},
   "outputs": [],
   "source": [
    "#import this for coef visualization\n",
    "def visualize_coefficients(coefficients, feature_names, n_top_features=25):\n",
    "    \"\"\"Visualize coefficients of a linear model.\n",
    "    Parameters\n",
    "    ----------\n",
    "    coefficients : nd-array, shape (n_features,)\n",
    "        Model coefficients.\n",
    "    feature_names : list or nd-array of strings, shape (n_features,)\n",
    "        Feature names for labeling the coefficients.\n",
    "    n_top_features : int, default=25\n",
    "        How many features to show. The function will show the largest (most\n",
    "        positive) and smallest (most negative)  n_top_features coefficients,\n",
    "        for a total of 2 * n_top_features coefficients.\n",
    "    \"\"\"\n",
    "    coefficients = coefficients.squeeze()\n",
    "    if coefficients.ndim > 1:\n",
    "        # this is not a row or column vector\n",
    "        raise ValueError(\"coeffients must be 1d array or column vector, got\"\n",
    "                         \" shape {}\".format(coefficients.shape))\n",
    "    coefficients = coefficients.ravel()\n",
    "\n",
    "    if len(coefficients) != len(feature_names):\n",
    "        raise ValueError(\"Number of coefficients {} doesn't match number of\"\n",
    "                         \"feature names {}.\".format(len(coefficients),\n",
    "                                                    len(feature_names)))\n",
    "    # get coefficients with large absolute values\n",
    "    coef = coefficients.ravel()\n",
    "    positive_coefficients = np.argsort(coef)[-n_top_features:]\n",
    "    negative_coefficients = np.argsort(coef)[:n_top_features]\n",
    "    interesting_coefficients = np.hstack([negative_coefficients,\n",
    "                                          positive_coefficients])\n",
    "    # plot them\n",
    "    plt.figure(figsize=(15, 5))\n",
    "    colors = ['#ff2020' if c < 0 else '#0000aa'\n",
    "              for c in coef[interesting_coefficients]]\n",
    "    plt.bar(np.arange(2 * n_top_features), coef[interesting_coefficients],\n",
    "            color=colors)\n",
    "    feature_names = np.array(feature_names)\n",
    "    plt.subplots_adjust(bottom=0.3)\n",
    "    plt.xticks(np.arange(1, 1 + 2 * n_top_features),\n",
    "               feature_names[interesting_coefficients], rotation=60,\n",
    "               ha=\"right\")\n",
    "    plt.ylabel(\"Coefficient magnitude\")\n",
    "    plt.xlabel(\"Feature\")"
   ]
  },
  {
   "cell_type": "code",
   "execution_count": 21,
   "id": "7aaba88f",
   "metadata": {},
   "outputs": [
    {
     "name": "stdout",
     "output_type": "stream",
     "text": [
      "F1-score for model 1: 0.97\n"
     ]
    },
    {
     "name": "stderr",
     "output_type": "stream",
     "text": [
      "/Users/yemei/anaconda3/lib/python3.11/site-packages/sklearn/linear_model/_logistic.py:458: ConvergenceWarning: lbfgs failed to converge (status=1):\n",
      "STOP: TOTAL NO. of ITERATIONS REACHED LIMIT.\n",
      "\n",
      "Increase the number of iterations (max_iter) or scale the data as shown in:\n",
      "    https://scikit-learn.org/stable/modules/preprocessing.html\n",
      "Please also refer to the documentation for alternative solver options:\n",
      "    https://scikit-learn.org/stable/modules/linear_model.html#logistic-regression\n",
      "  n_iter_i = _check_optimize_result(\n"
     ]
    },
    {
     "data": {
      "image/png": "[encoded data removed]",
      "text/plain": [
       "<Figure size 1500x500 with 1 Axes>"
      ]
     },
     "metadata": {},
     "output_type": "display_data"
    }
   ],
   "source": [
    "# F1 score for first approach \n",
    "from sklearn.metrics import f1_score\n",
    "\n",
    "X_test_tfidf1 = vect1.transform(X_test_list)\n",
    "\n",
    "# Predict using the fitted Logistic Regression model\n",
    "y_pred1 = grid1.predict(X_test_tfidf1)\n",
    "\n",
    "# Calculate F1-score\n",
    "f1_1 = f1_score(y_test_labels, y_pred1)\n",
    "print(\"F1-score for model 1: {:.2f}\".format(f1_1))\n",
    "\n",
    "\n",
    "# Visualize coefficients for first approach\n",
    "coef1 = LogisticRegression(C=10).fit(X1, y_train_labels).coef_\n",
    "feature_names1 = vect1.get_feature_names_out()\n",
    "visualize_coefficients(coef1, feature_names1, n_top_features=20)"
   ]
  },
  {
   "cell_type": "markdown",
   "id": "b90421a2",
   "metadata": {},
   "source": [
    "### F1 score for first model is 0.97. In the coeffecient graph, blue presents the words under blue category are more likely to consider as clickbait, red presents the words under red category are more likley to consider as non-clickbait. For instance, in the graph, we can see the word, you, 2015, and your, are top three words that will less likely to consider as clickbait. For words, ferry, pitch, and whatever, are top three words that will most likely to consider as clickbait. "
   ]
  },
  {
   "cell_type": "code",
   "execution_count": 22,
   "id": "68bc7b81",
   "metadata": {},
   "outputs": [
    {
     "name": "stdout",
     "output_type": "stream",
     "text": [
      "F1-score: 0.94\n"
     ]
    },
    {
     "data": {
      "image/png": "[encoded data removed]",
      "text/plain": [
       "<Figure size 1500x500 with 1 Axes>"
      ]
     },
     "metadata": {},
     "output_type": "display_data"
    }
   ],
   "source": [
    "# F1 score for second approach \n",
    "y_pred2 = grid.predict(X_test2)\n",
    "\n",
    "# Calculate F1-score\n",
    "f1_2 = f1_score(y_test_labels, y_pred2)\n",
    "print(\"F1-score: {:.2f}\".format(f1_2))\n",
    "\n",
    "# Visualize coefficients for second approach\n",
    "coef2 = LogisticRegression(C=1).fit(X2, y_train_labels).coef_\n",
    "feature_names2 = vect2.get_feature_names_out()\n",
    "visualize_coefficients(coef2, feature_names2, n_top_features=20)"
   ]
  },
  {
   "cell_type": "markdown",
   "id": "5cf9a6e6",
   "metadata": {},
   "source": [
    "### F1 score for first model is 0.94. We can see the word in the graph, for example, know, actually, and guess, are top three words that will less likely to consider as clickbait. For words, dies, kills, and wins, are top three words that will most likely to consider as clickbait. "
   ]
  },
  {
   "cell_type": "code",
   "execution_count": 23,
   "id": "4b446b5e",
   "metadata": {},
   "outputs": [
    {
     "name": "stdout",
     "output_type": "stream",
     "text": [
      "F1-score: 0.97\n"
     ]
    },
    {
     "data": {
      "image/png": "[encoded data removed]",
      "text/plain": [
       "<Figure size 1500x500 with 1 Axes>"
      ]
     },
     "metadata": {},
     "output_type": "display_data"
    }
   ],
   "source": [
    "# F1 score for Third approach\n",
    "\n",
    "f1_3 = f1_score(y_test_labels, y_pred3)\n",
    "print(\"F1-score: {:.2f}\".format(f1_3))\n",
    "\n",
    "# Visualize coefficients for third approach\n",
    "coef3 = LogisticRegression(C=0.1).fit(X3, y_train_labels).coef_\n",
    "feature_names3 = vect3.get_feature_names_out()\n",
    "visualize_coefficients(coef3, feature_names3, n_top_features=20)\n"
   ]
  },
  {
   "cell_type": "markdown",
   "id": "9c2834b0",
   "metadata": {},
   "source": [
    "### F1 score for third model is 0.97. We can see the word in the graph, for example, you, your, and this, are top three words that will less likely to consider as clickbait. For words, ferry, pitch, and eurovision, are top three words that will most likely to consider as clickbait. \n"
   ]
  },
  {
   "cell_type": "markdown",
   "id": "8cbcf012",
   "metadata": {},
   "source": [
    "### Overall, compared with three models, I can filiter model 2 out initially as the test score 0.93 is lower than model 1 and model 3, both are 0.97. Compared with model 1 and model 3, both them have same cross-validation score, test accuracy score, as well as f1 score, they are 0.97. We can conclude that CountVectorizer and TfidVectorizer in the logistic regression model did not impact the training at all. While, compared with their coefficient magnititude, model 1 have a wide range of 4 to -4, while mode 3 have a interpretable range of 0.5 to -1.25. In this case, some features in the model 1 have a stronger impact on the clickbait. While, it's more easy to explain each feature in the model 3. Therefore, I would like to pick model 3 in this case. \n",
    "### Additionally, looking at model 1 and model 3 top three words that most likely and less likely impact on clickbait, we can conclude that the word like you and your are more likly to recognize as the non-clickbait words in the context, and the word like ferry and pitch are more likely to recognize as the clickbait words in the context. "
   ]
  },
  {
   "cell_type": "markdown",
   "id": "a125f03f",
   "metadata": {},
   "source": [
    "## Part 2: Build a predictive neural network using Keras"
   ]
  },
  {
   "cell_type": "markdown",
   "id": "8aaecf16",
   "metadata": {},
   "source": [
    "Train test split the iris dataset and then run a multilayer perceptron (feed forward neural network) with two hidden layers on the iris dataset using the keras Sequential interface.\n",
    "\n",
    "Data can be imported via the following link:\n",
    "\n",
    "http://vincentarelbundock.github.io/Rdatasets/csv/datasets/iris.csv\n",
    "\n",
    "fit two models with different numbers of hidden layers and or hidden neurons and evaluate each on a test-set.  Describe the differences in the predictive accuracy of models with different numbers of hidden units/neurons.  Describe the predictive strength of your best model.  Be sure to explain your choice and evaluate this model using the test set."
   ]
  },
  {
   "cell_type": "code",
   "execution_count": 24,
   "id": "1d272bd9",
   "metadata": {},
   "outputs": [
    {
     "data": {
      "text/html": [
       "<div>\n",
       "<style scoped>\n",
       "    .dataframe tbody tr th:only-of-type {\n",
       "        vertical-align: middle;\n",
       "    }\n",
       "\n",
       "    .dataframe tbody tr th {\n",
       "        vertical-align: top;\n",
       "    }\n",
       "\n",
       "    .dataframe thead th {\n",
       "        text-align: right;\n",
       "    }\n",
       "</style>\n",
       "<table border=\"1\" class=\"dataframe\">\n",
       "  <thead>\n",
       "    <tr style=\"text-align: right;\">\n",
       "      <th></th>\n",
       "      <th>rownames</th>\n",
       "      <th>Sepal.Length</th>\n",
       "      <th>Sepal.Width</th>\n",
       "      <th>Petal.Length</th>\n",
       "      <th>Petal.Width</th>\n",
       "      <th>Species</th>\n",
       "    </tr>\n",
       "  </thead>\n",
       "  <tbody>\n",
       "    <tr>\n",
       "      <th>0</th>\n",
       "      <td>1</td>\n",
       "      <td>5.1</td>\n",
       "      <td>3.5</td>\n",
       "      <td>1.4</td>\n",
       "      <td>0.2</td>\n",
       "      <td>setosa</td>\n",
       "    </tr>\n",
       "    <tr>\n",
       "      <th>1</th>\n",
       "      <td>2</td>\n",
       "      <td>4.9</td>\n",
       "      <td>3.0</td>\n",
       "      <td>1.4</td>\n",
       "      <td>0.2</td>\n",
       "      <td>setosa</td>\n",
       "    </tr>\n",
       "    <tr>\n",
       "      <th>2</th>\n",
       "      <td>3</td>\n",
       "      <td>4.7</td>\n",
       "      <td>3.2</td>\n",
       "      <td>1.3</td>\n",
       "      <td>0.2</td>\n",
       "      <td>setosa</td>\n",
       "    </tr>\n",
       "    <tr>\n",
       "      <th>3</th>\n",
       "      <td>4</td>\n",
       "      <td>4.6</td>\n",
       "      <td>3.1</td>\n",
       "      <td>1.5</td>\n",
       "      <td>0.2</td>\n",
       "      <td>setosa</td>\n",
       "    </tr>\n",
       "    <tr>\n",
       "      <th>4</th>\n",
       "      <td>5</td>\n",
       "      <td>5.0</td>\n",
       "      <td>3.6</td>\n",
       "      <td>1.4</td>\n",
       "      <td>0.2</td>\n",
       "      <td>setosa</td>\n",
       "    </tr>\n",
       "  </tbody>\n",
       "</table>\n",
       "</div>"
      ],
      "text/plain": [
       "   rownames  Sepal.Length  Sepal.Width  Petal.Length  Petal.Width Species\n",
       "0         1           5.1          3.5           1.4          0.2  setosa\n",
       "1         2           4.9          3.0           1.4          0.2  setosa\n",
       "2         3           4.7          3.2           1.3          0.2  setosa\n",
       "3         4           4.6          3.1           1.5          0.2  setosa\n",
       "4         5           5.0          3.6           1.4          0.2  setosa"
      ]
     },
     "execution_count": 24,
     "metadata": {},
     "output_type": "execute_result"
    }
   ],
   "source": [
    "iris_df = pd.read_csv(\"http://vincentarelbundock.github.io/Rdatasets/csv/datasets/iris.csv\")\n",
    "iris_df.head(5)"
   ]
  },
  {
   "cell_type": "code",
   "execution_count": 29,
   "id": "00494dae",
   "metadata": {},
   "outputs": [
    {
     "data": {
      "text/html": [
       "<div>\n",
       "<style scoped>\n",
       "    .dataframe tbody tr th:only-of-type {\n",
       "        vertical-align: middle;\n",
       "    }\n",
       "\n",
       "    .dataframe tbody tr th {\n",
       "        vertical-align: top;\n",
       "    }\n",
       "\n",
       "    .dataframe thead th {\n",
       "        text-align: right;\n",
       "    }\n",
       "</style>\n",
       "<table border=\"1\" class=\"dataframe\">\n",
       "  <thead>\n",
       "    <tr style=\"text-align: right;\">\n",
       "      <th></th>\n",
       "      <th>rownames</th>\n",
       "      <th>Sepal.Length</th>\n",
       "      <th>Sepal.Width</th>\n",
       "      <th>Petal.Length</th>\n",
       "      <th>Petal.Width</th>\n",
       "      <th>Species</th>\n",
       "    </tr>\n",
       "  </thead>\n",
       "  <tbody>\n",
       "    <tr>\n",
       "      <th>0</th>\n",
       "      <td>1</td>\n",
       "      <td>5.1</td>\n",
       "      <td>3.5</td>\n",
       "      <td>1.4</td>\n",
       "      <td>0.2</td>\n",
       "      <td>setosa</td>\n",
       "    </tr>\n",
       "    <tr>\n",
       "      <th>1</th>\n",
       "      <td>2</td>\n",
       "      <td>4.9</td>\n",
       "      <td>3.0</td>\n",
       "      <td>1.4</td>\n",
       "      <td>0.2</td>\n",
       "      <td>setosa</td>\n",
       "    </tr>\n",
       "    <tr>\n",
       "      <th>2</th>\n",
       "      <td>3</td>\n",
       "      <td>4.7</td>\n",
       "      <td>3.2</td>\n",
       "      <td>1.3</td>\n",
       "      <td>0.2</td>\n",
       "      <td>setosa</td>\n",
       "    </tr>\n",
       "    <tr>\n",
       "      <th>3</th>\n",
       "      <td>4</td>\n",
       "      <td>4.6</td>\n",
       "      <td>3.1</td>\n",
       "      <td>1.5</td>\n",
       "      <td>0.2</td>\n",
       "      <td>setosa</td>\n",
       "    </tr>\n",
       "    <tr>\n",
       "      <th>4</th>\n",
       "      <td>5</td>\n",
       "      <td>5.0</td>\n",
       "      <td>3.6</td>\n",
       "      <td>1.4</td>\n",
       "      <td>0.2</td>\n",
       "      <td>setosa</td>\n",
       "    </tr>\n",
       "  </tbody>\n",
       "</table>\n",
       "</div>"
      ],
      "text/plain": [
       "   rownames  Sepal.Length  Sepal.Width  Petal.Length  Petal.Width Species\n",
       "0         1           5.1          3.5           1.4          0.2  setosa\n",
       "1         2           4.9          3.0           1.4          0.2  setosa\n",
       "2         3           4.7          3.2           1.3          0.2  setosa\n",
       "3         4           4.6          3.1           1.5          0.2  setosa\n",
       "4         5           5.0          3.6           1.4          0.2  setosa"
      ]
     },
     "metadata": {},
     "output_type": "display_data"
    },
    {
     "data": {
      "text/html": [
       "<div>\n",
       "<style scoped>\n",
       "    .dataframe tbody tr th:only-of-type {\n",
       "        vertical-align: middle;\n",
       "    }\n",
       "\n",
       "    .dataframe tbody tr th {\n",
       "        vertical-align: top;\n",
       "    }\n",
       "\n",
       "    .dataframe thead th {\n",
       "        text-align: right;\n",
       "    }\n",
       "</style>\n",
       "<table border=\"1\" class=\"dataframe\">\n",
       "  <thead>\n",
       "    <tr style=\"text-align: right;\">\n",
       "      <th></th>\n",
       "      <th>Sepal.Length</th>\n",
       "      <th>Sepal.Width</th>\n",
       "      <th>Petal.Length</th>\n",
       "      <th>Petal.Width</th>\n",
       "    </tr>\n",
       "  </thead>\n",
       "  <tbody>\n",
       "    <tr>\n",
       "      <th>0</th>\n",
       "      <td>5.1</td>\n",
       "      <td>3.5</td>\n",
       "      <td>1.4</td>\n",
       "      <td>0.2</td>\n",
       "    </tr>\n",
       "    <tr>\n",
       "      <th>1</th>\n",
       "      <td>4.9</td>\n",
       "      <td>3.0</td>\n",
       "      <td>1.4</td>\n",
       "      <td>0.2</td>\n",
       "    </tr>\n",
       "    <tr>\n",
       "      <th>2</th>\n",
       "      <td>4.7</td>\n",
       "      <td>3.2</td>\n",
       "      <td>1.3</td>\n",
       "      <td>0.2</td>\n",
       "    </tr>\n",
       "    <tr>\n",
       "      <th>3</th>\n",
       "      <td>4.6</td>\n",
       "      <td>3.1</td>\n",
       "      <td>1.5</td>\n",
       "      <td>0.2</td>\n",
       "    </tr>\n",
       "    <tr>\n",
       "      <th>4</th>\n",
       "      <td>5.0</td>\n",
       "      <td>3.6</td>\n",
       "      <td>1.4</td>\n",
       "      <td>0.2</td>\n",
       "    </tr>\n",
       "  </tbody>\n",
       "</table>\n",
       "</div>"
      ],
      "text/plain": [
       "   Sepal.Length  Sepal.Width  Petal.Length  Petal.Width\n",
       "0           5.1          3.5           1.4          0.2\n",
       "1           4.9          3.0           1.4          0.2\n",
       "2           4.7          3.2           1.3          0.2\n",
       "3           4.6          3.1           1.5          0.2\n",
       "4           5.0          3.6           1.4          0.2"
      ]
     },
     "metadata": {},
     "output_type": "display_data"
    },
    {
     "data": {
      "text/html": [
       "<div>\n",
       "<style scoped>\n",
       "    .dataframe tbody tr th:only-of-type {\n",
       "        vertical-align: middle;\n",
       "    }\n",
       "\n",
       "    .dataframe tbody tr th {\n",
       "        vertical-align: top;\n",
       "    }\n",
       "\n",
       "    .dataframe thead th {\n",
       "        text-align: right;\n",
       "    }\n",
       "</style>\n",
       "<table border=\"1\" class=\"dataframe\">\n",
       "  <thead>\n",
       "    <tr style=\"text-align: right;\">\n",
       "      <th></th>\n",
       "      <th>setosa</th>\n",
       "      <th>versicolor</th>\n",
       "      <th>virginica</th>\n",
       "    </tr>\n",
       "  </thead>\n",
       "  <tbody>\n",
       "    <tr>\n",
       "      <th>0</th>\n",
       "      <td>1</td>\n",
       "      <td>0</td>\n",
       "      <td>0</td>\n",
       "    </tr>\n",
       "    <tr>\n",
       "      <th>10</th>\n",
       "      <td>1</td>\n",
       "      <td>0</td>\n",
       "      <td>0</td>\n",
       "    </tr>\n",
       "    <tr>\n",
       "      <th>20</th>\n",
       "      <td>1</td>\n",
       "      <td>0</td>\n",
       "      <td>0</td>\n",
       "    </tr>\n",
       "    <tr>\n",
       "      <th>30</th>\n",
       "      <td>1</td>\n",
       "      <td>0</td>\n",
       "      <td>0</td>\n",
       "    </tr>\n",
       "    <tr>\n",
       "      <th>40</th>\n",
       "      <td>1</td>\n",
       "      <td>0</td>\n",
       "      <td>0</td>\n",
       "    </tr>\n",
       "    <tr>\n",
       "      <th>50</th>\n",
       "      <td>0</td>\n",
       "      <td>1</td>\n",
       "      <td>0</td>\n",
       "    </tr>\n",
       "    <tr>\n",
       "      <th>60</th>\n",
       "      <td>0</td>\n",
       "      <td>1</td>\n",
       "      <td>0</td>\n",
       "    </tr>\n",
       "    <tr>\n",
       "      <th>70</th>\n",
       "      <td>0</td>\n",
       "      <td>1</td>\n",
       "      <td>0</td>\n",
       "    </tr>\n",
       "    <tr>\n",
       "      <th>80</th>\n",
       "      <td>0</td>\n",
       "      <td>1</td>\n",
       "      <td>0</td>\n",
       "    </tr>\n",
       "    <tr>\n",
       "      <th>90</th>\n",
       "      <td>0</td>\n",
       "      <td>1</td>\n",
       "      <td>0</td>\n",
       "    </tr>\n",
       "    <tr>\n",
       "      <th>100</th>\n",
       "      <td>0</td>\n",
       "      <td>0</td>\n",
       "      <td>1</td>\n",
       "    </tr>\n",
       "    <tr>\n",
       "      <th>110</th>\n",
       "      <td>0</td>\n",
       "      <td>0</td>\n",
       "      <td>1</td>\n",
       "    </tr>\n",
       "    <tr>\n",
       "      <th>120</th>\n",
       "      <td>0</td>\n",
       "      <td>0</td>\n",
       "      <td>1</td>\n",
       "    </tr>\n",
       "    <tr>\n",
       "      <th>130</th>\n",
       "      <td>0</td>\n",
       "      <td>0</td>\n",
       "      <td>1</td>\n",
       "    </tr>\n",
       "    <tr>\n",
       "      <th>140</th>\n",
       "      <td>0</td>\n",
       "      <td>0</td>\n",
       "      <td>1</td>\n",
       "    </tr>\n",
       "  </tbody>\n",
       "</table>\n",
       "</div>"
      ],
      "text/plain": [
       "     setosa  versicolor  virginica\n",
       "0         1           0          0\n",
       "10        1           0          0\n",
       "20        1           0          0\n",
       "30        1           0          0\n",
       "40        1           0          0\n",
       "50        0           1          0\n",
       "60        0           1          0\n",
       "70        0           1          0\n",
       "80        0           1          0\n",
       "90        0           1          0\n",
       "100       0           0          1\n",
       "110       0           0          1\n",
       "120       0           0          1\n",
       "130       0           0          1\n",
       "140       0           0          1"
      ]
     },
     "metadata": {},
     "output_type": "display_data"
    }
   ],
   "source": [
    "from sklearn.preprocessing import LabelEncoder\n",
    "\n",
    "X = iris_df.drop(['rownames', 'Species'], axis=1)\n",
    "y = iris_df['Species']\n",
    "y1 = pd.get_dummies(y)\n",
    "\n",
    "display(iris_df.head())\n",
    "display(X.head())\n",
    "display(y1[0::10])"
   ]
  },
  {
   "cell_type": "code",
   "execution_count": null,
   "id": "d89b0840",
   "metadata": {},
   "outputs": [],
   "source": []
  },
  {
   "cell_type": "code",
   "execution_count": 30,
   "id": "12ef136f",
   "metadata": {},
   "outputs": [
    {
     "name": "stderr",
     "output_type": "stream",
     "text": [
      "WARNING:absl:`lr` is deprecated in Keras optimizer, please use `learning_rate` or use the legacy optimizer, e.g.,tf.keras.optimizers.legacy.SGD.\n"
     ]
    },
    {
     "name": "stdout",
     "output_type": "stream",
     "text": [
      "(112, 4)\n",
      "(112, 3)\n",
      "Epoch 1/30\n",
      "3/3 [==============================] - 2s 200ms/step - loss: 1.3557 - accuracy: 0.0787 - val_loss: 1.1152 - val_accuracy: 0.3043\n",
      "Epoch 2/30\n",
      "3/3 [==============================] - 0s 33ms/step - loss: 1.0955 - accuracy: 0.2584 - val_loss: 1.0109 - val_accuracy: 0.5652\n",
      "Epoch 3/30\n",
      "3/3 [==============================] - 0s 41ms/step - loss: 1.0123 - accuracy: 0.4045 - val_loss: 0.9440 - val_accuracy: 0.5217\n",
      "Epoch 4/30\n",
      "3/3 [==============================] - 0s 28ms/step - loss: 0.9339 - accuracy: 0.5506 - val_loss: 0.8967 - val_accuracy: 0.5217\n",
      "Epoch 5/30\n",
      "3/3 [==============================] - 0s 33ms/step - loss: 0.8982 - accuracy: 0.6180 - val_loss: 0.9079 - val_accuracy: 0.4783\n",
      "Epoch 6/30\n",
      "3/3 [==============================] - 0s 27ms/step - loss: 0.8618 - accuracy: 0.6742 - val_loss: 0.8609 - val_accuracy: 0.5217\n",
      "Epoch 7/30\n",
      "3/3 [==============================] - 0s 27ms/step - loss: 0.8381 - accuracy: 0.6854 - val_loss: 0.8024 - val_accuracy: 0.6957\n",
      "Epoch 8/30\n",
      "3/3 [==============================] - 0s 33ms/step - loss: 0.8188 - accuracy: 0.6517 - val_loss: 0.8281 - val_accuracy: 0.5652\n",
      "Epoch 9/30\n",
      "3/3 [==============================] - 0s 23ms/step - loss: 0.7880 - accuracy: 0.6517 - val_loss: 0.7967 - val_accuracy: 0.6522\n",
      "Epoch 10/30\n",
      "3/3 [==============================] - 0s 26ms/step - loss: 0.7684 - accuracy: 0.6966 - val_loss: 0.7706 - val_accuracy: 0.5652\n",
      "Epoch 11/30\n",
      "3/3 [==============================] - 0s 31ms/step - loss: 0.7483 - accuracy: 0.6742 - val_loss: 0.7397 - val_accuracy: 0.6957\n",
      "Epoch 12/30\n",
      "3/3 [==============================] - 0s 29ms/step - loss: 0.7297 - accuracy: 0.6404 - val_loss: 0.7232 - val_accuracy: 0.6957\n",
      "Epoch 13/30\n",
      "3/3 [==============================] - 0s 29ms/step - loss: 0.7183 - accuracy: 0.6854 - val_loss: 0.7163 - val_accuracy: 0.7391\n",
      "Epoch 14/30\n",
      "3/3 [==============================] - 0s 35ms/step - loss: 0.6975 - accuracy: 0.6404 - val_loss: 0.7424 - val_accuracy: 0.5652\n",
      "Epoch 15/30\n",
      "3/3 [==============================] - 0s 30ms/step - loss: 0.6847 - accuracy: 0.7191 - val_loss: 0.6964 - val_accuracy: 0.7826\n",
      "Epoch 16/30\n",
      "3/3 [==============================] - 0s 40ms/step - loss: 0.6917 - accuracy: 0.6966 - val_loss: 0.6874 - val_accuracy: 0.6957\n",
      "Epoch 17/30\n",
      "3/3 [==============================] - 0s 49ms/step - loss: 0.6517 - accuracy: 0.7528 - val_loss: 0.6748 - val_accuracy: 0.7826\n",
      "Epoch 18/30\n",
      "3/3 [==============================] - 0s 38ms/step - loss: 0.6405 - accuracy: 0.7191 - val_loss: 0.6750 - val_accuracy: 0.6957\n",
      "Epoch 19/30\n",
      "3/3 [==============================] - 0s 31ms/step - loss: 0.6284 - accuracy: 0.7865 - val_loss: 0.6618 - val_accuracy: 0.6957\n",
      "Epoch 20/30\n",
      "3/3 [==============================] - 0s 32ms/step - loss: 0.6189 - accuracy: 0.7978 - val_loss: 0.6486 - val_accuracy: 0.7826\n",
      "Epoch 21/30\n",
      "3/3 [==============================] - 0s 25ms/step - loss: 0.6108 - accuracy: 0.7865 - val_loss: 0.6256 - val_accuracy: 0.9130\n",
      "Epoch 22/30\n",
      "3/3 [==============================] - 0s 25ms/step - loss: 0.5970 - accuracy: 0.7978 - val_loss: 0.6265 - val_accuracy: 0.9130\n",
      "Epoch 23/30\n",
      "3/3 [==============================] - 0s 41ms/step - loss: 0.5883 - accuracy: 0.8090 - val_loss: 0.6153 - val_accuracy: 0.9565\n",
      "Epoch 24/30\n",
      "3/3 [==============================] - 0s 47ms/step - loss: 0.5787 - accuracy: 0.8539 - val_loss: 0.6041 - val_accuracy: 0.9565\n",
      "Epoch 25/30\n",
      "3/3 [==============================] - 0s 45ms/step - loss: 0.5721 - accuracy: 0.8202 - val_loss: 0.6026 - val_accuracy: 0.9565\n",
      "Epoch 26/30\n",
      "3/3 [==============================] - 0s 48ms/step - loss: 0.5619 - accuracy: 0.9101 - val_loss: 0.5888 - val_accuracy: 0.9565\n",
      "Epoch 27/30\n",
      "3/3 [==============================] - 0s 42ms/step - loss: 0.5605 - accuracy: 0.8315 - val_loss: 0.5626 - val_accuracy: 0.7391\n",
      "Epoch 28/30\n",
      "3/3 [==============================] - 0s 41ms/step - loss: 0.5486 - accuracy: 0.6966 - val_loss: 0.5965 - val_accuracy: 0.7391\n",
      "Epoch 29/30\n",
      "3/3 [==============================] - 0s 44ms/step - loss: 0.5407 - accuracy: 0.8764 - val_loss: 0.5674 - val_accuracy: 0.9565\n",
      "Epoch 30/30\n",
      "3/3 [==============================] - 0s 35ms/step - loss: 0.5416 - accuracy: 0.8315 - val_loss: 0.5881 - val_accuracy: 0.7391\n",
      "2/2 [==============================] - 0s 8ms/step - loss: 0.4986 - accuracy: 0.8421\n",
      "test [0.49858394265174866, 0.8421052694320679]\n"
     ]
    }
   ],
   "source": [
    "#model with one hidden layers\n",
    "\n",
    "import tensorflow.keras as keras\n",
    "from tensorflow.keras.models import Sequential\n",
    "from tensorflow.keras.layers import Dense, Dropout, Activation\n",
    "from tensorflow.keras.optimizers import SGD\n",
    "import numpy as np\n",
    "from sklearn.model_selection import train_test_split\n",
    "\n",
    "X_train, X_test, y_train, y_test = train_test_split(X, y1, random_state=42)\n",
    "print(X_train.shape)\n",
    "print(y_train.shape)\n",
    "\n",
    "\n",
    "model1 = Sequential()\n",
    "\n",
    "model1.add(Dense(units=64, activation='relu', input_dim=X_train.shape[1]))\n",
    "model1.add(Dense(units=64, activation='relu'))\n",
    "model1.add(Dense(units=3, activation='softmax'))\n",
    "\n",
    "sgd = SGD(lr=0.0001)  # define a learning rate for optimization\n",
    "\n",
    "model1.compile(loss='categorical_crossentropy',\n",
    "              optimizer=sgd,\n",
    "              metrics=['accuracy'])\n",
    "\n",
    "model1.fit(X_train, y_train, validation_split=0.20, epochs=30, batch_size=32)\n",
    "\n",
    "score1 = model1.evaluate(X_test, y_test, batch_size=32) # extract loss and accuracy from test data evaluation\n",
    "print('test', score1)\n"
   ]
  },
  {
   "cell_type": "markdown",
   "id": "83c61d7a",
   "metadata": {},
   "source": [
    "### from this model, we have one input layer, one hidden layer, and one output layer that splite with three categories by looking at y shape. For input and hidden layer we have 64 units and for output layer we have 3 units. We set the epochs as 30 which the dataset will fit the model in 30 times, and finally we have 84% accuracy and 50% loss. "
   ]
  },
  {
   "cell_type": "code",
   "execution_count": 31,
   "id": "d90a4bd2",
   "metadata": {},
   "outputs": [
    {
     "name": "stdout",
     "output_type": "stream",
     "text": [
      "Model: \"sequential_1\"\n",
      "_________________________________________________________________\n",
      " Layer (type)                Output Shape              Param #   \n",
      "=================================================================\n",
      " dense_3 (Dense)             (None, 64)                320       \n",
      "                                                                 \n",
      " activation (Activation)     (None, 64)                0         \n",
      "                                                                 \n",
      " dense_4 (Dense)             (None, 64)                4160      \n",
      "                                                                 \n",
      " activation_1 (Activation)   (None, 64)                0         \n",
      "                                                                 \n",
      " dense_5 (Dense)             (None, 64)                4160      \n",
      "                                                                 \n",
      " activation_2 (Activation)   (None, 64)                0         \n",
      "                                                                 \n",
      " dense_6 (Dense)             (None, 3)                 195       \n",
      "                                                                 \n",
      " activation_3 (Activation)   (None, 3)                 0         \n",
      "                                                                 \n",
      "=================================================================\n",
      "Total params: 8835 (34.51 KB)\n",
      "Trainable params: 8835 (34.51 KB)\n",
      "Non-trainable params: 0 (0.00 Byte)\n",
      "_________________________________________________________________\n"
     ]
    },
    {
     "name": "stderr",
     "output_type": "stream",
     "text": [
      "WARNING:absl:`lr` is deprecated in Keras optimizer, please use `learning_rate` or use the legacy optimizer, e.g.,tf.keras.optimizers.legacy.SGD.\n"
     ]
    },
    {
     "name": "stdout",
     "output_type": "stream",
     "text": [
      "Epoch 1/30\n",
      "3/3 [==============================] - 1s 189ms/step - loss: 1.0593 - accuracy: 0.3258 - val_loss: 0.9503 - val_accuracy: 0.4783\n",
      "Epoch 2/30\n",
      "3/3 [==============================] - 0s 38ms/step - loss: 1.0029 - accuracy: 0.3034 - val_loss: 0.9311 - val_accuracy: 0.4783\n",
      "Epoch 3/30\n",
      "3/3 [==============================] - 0s 29ms/step - loss: 0.9759 - accuracy: 0.4045 - val_loss: 0.9177 - val_accuracy: 0.8261\n",
      "Epoch 4/30\n",
      "3/3 [==============================] - 0s 34ms/step - loss: 0.9514 - accuracy: 0.5506 - val_loss: 0.9133 - val_accuracy: 0.7826\n",
      "Epoch 5/30\n",
      "3/3 [==============================] - 0s 43ms/step - loss: 0.9303 - accuracy: 0.8989 - val_loss: 0.8965 - val_accuracy: 0.6087\n",
      "Epoch 6/30\n",
      "3/3 [==============================] - 0s 27ms/step - loss: 0.9074 - accuracy: 0.8876 - val_loss: 0.8820 - val_accuracy: 0.6957\n",
      "Epoch 7/30\n",
      "3/3 [==============================] - 0s 36ms/step - loss: 0.8863 - accuracy: 0.8652 - val_loss: 0.8588 - val_accuracy: 0.9130\n",
      "Epoch 8/30\n",
      "3/3 [==============================] - 0s 34ms/step - loss: 0.8661 - accuracy: 0.8539 - val_loss: 0.8365 - val_accuracy: 1.0000\n",
      "Epoch 9/30\n",
      "3/3 [==============================] - 0s 34ms/step - loss: 0.8509 - accuracy: 0.9101 - val_loss: 0.8304 - val_accuracy: 0.9130\n",
      "Epoch 10/30\n",
      "3/3 [==============================] - 0s 29ms/step - loss: 0.8338 - accuracy: 0.8989 - val_loss: 0.8152 - val_accuracy: 0.9565\n",
      "Epoch 11/30\n",
      "3/3 [==============================] - 0s 29ms/step - loss: 0.8231 - accuracy: 0.8989 - val_loss: 0.7878 - val_accuracy: 1.0000\n",
      "Epoch 12/30\n",
      "3/3 [==============================] - 0s 33ms/step - loss: 0.8077 - accuracy: 0.9213 - val_loss: 0.7708 - val_accuracy: 1.0000\n",
      "Epoch 13/30\n",
      "3/3 [==============================] - 0s 29ms/step - loss: 0.7904 - accuracy: 0.8202 - val_loss: 0.7745 - val_accuracy: 0.9565\n",
      "Epoch 14/30\n",
      "3/3 [==============================] - 0s 27ms/step - loss: 0.7772 - accuracy: 0.8876 - val_loss: 0.7465 - val_accuracy: 1.0000\n",
      "Epoch 15/30\n",
      "3/3 [==============================] - 0s 27ms/step - loss: 0.7674 - accuracy: 0.8652 - val_loss: 0.7276 - val_accuracy: 1.0000\n",
      "Epoch 16/30\n",
      "3/3 [==============================] - 0s 28ms/step - loss: 0.7500 - accuracy: 0.8652 - val_loss: 0.7115 - val_accuracy: 1.0000\n",
      "Epoch 17/30\n",
      "3/3 [==============================] - 0s 29ms/step - loss: 0.7346 - accuracy: 0.7865 - val_loss: 0.7326 - val_accuracy: 0.9565\n",
      "Epoch 18/30\n",
      "3/3 [==============================] - 0s 32ms/step - loss: 0.7225 - accuracy: 0.8764 - val_loss: 0.7147 - val_accuracy: 0.9565\n",
      "Epoch 19/30\n",
      "3/3 [==============================] - 0s 24ms/step - loss: 0.7052 - accuracy: 0.9101 - val_loss: 0.6928 - val_accuracy: 1.0000\n",
      "Epoch 20/30\n",
      "3/3 [==============================] - 0s 35ms/step - loss: 0.6892 - accuracy: 0.9326 - val_loss: 0.6745 - val_accuracy: 1.0000\n",
      "Epoch 21/30\n",
      "3/3 [==============================] - 0s 34ms/step - loss: 0.6734 - accuracy: 0.9438 - val_loss: 0.6438 - val_accuracy: 1.0000\n",
      "Epoch 22/30\n",
      "3/3 [==============================] - 0s 29ms/step - loss: 0.6591 - accuracy: 0.9101 - val_loss: 0.6209 - val_accuracy: 0.8696\n",
      "Epoch 23/30\n",
      "3/3 [==============================] - 0s 32ms/step - loss: 0.6387 - accuracy: 0.7978 - val_loss: 0.6384 - val_accuracy: 1.0000\n",
      "Epoch 24/30\n",
      "3/3 [==============================] - 0s 26ms/step - loss: 0.6227 - accuracy: 0.9551 - val_loss: 0.6172 - val_accuracy: 1.0000\n",
      "Epoch 25/30\n",
      "3/3 [==============================] - 0s 34ms/step - loss: 0.6098 - accuracy: 0.9438 - val_loss: 0.5988 - val_accuracy: 1.0000\n",
      "Epoch 26/30\n",
      "3/3 [==============================] - 0s 51ms/step - loss: 0.5993 - accuracy: 0.8989 - val_loss: 0.5851 - val_accuracy: 1.0000\n",
      "Epoch 27/30\n",
      "3/3 [==============================] - 0s 31ms/step - loss: 0.5854 - accuracy: 0.9101 - val_loss: 0.5993 - val_accuracy: 0.9565\n",
      "Epoch 28/30\n",
      "3/3 [==============================] - 0s 52ms/step - loss: 0.5737 - accuracy: 0.9663 - val_loss: 0.5672 - val_accuracy: 1.0000\n",
      "Epoch 29/30\n",
      "3/3 [==============================] - 0s 33ms/step - loss: 0.5669 - accuracy: 0.9101 - val_loss: 0.5647 - val_accuracy: 1.0000\n",
      "Epoch 30/30\n",
      "3/3 [==============================] - 0s 37ms/step - loss: 0.5536 - accuracy: 0.9551 - val_loss: 0.5567 - val_accuracy: 1.0000\n",
      "2/2 [==============================] - 0s 6ms/step - loss: 0.5097 - accuracy: 1.0000\n",
      "test [0.5096672177314758, 1.0]\n"
     ]
    }
   ],
   "source": [
    "# model 2 with two hidden layers\n",
    "\n",
    "model2 = Sequential([\n",
    "    Dense(64, input_shape=(4,)),  \n",
    "    Activation('relu'),\n",
    "    Dense(64),\n",
    "    Activation('relu'),\n",
    "    Dense(64),\n",
    "    Activation('relu'),\n",
    "    Dense(3),\n",
    "    Activation('softmax'),\n",
    "])\n",
    "\n",
    "model2.summary()\n",
    "\n",
    "# Compile the model with the new optimizer and metrics\n",
    "sgd = SGD(lr=0.0001)\n",
    "model2.compile(optimizer=sgd, loss='categorical_crossentropy', metrics=['accuracy'])\n",
    "\n",
    "# Train the model\n",
    "model2.fit(X_train, y_train, validation_split=0.20, epochs=30, batch_size=32)\n",
    "\n",
    "score2 = model2.evaluate(X_test, y_test, batch_size=32)\n",
    "print('test', score2)\n"
   ]
  },
  {
   "cell_type": "markdown",
   "id": "43e3ac0c",
   "metadata": {},
   "source": [
    "### for the second model, we add in additional one hidden layer and re-run the model again. Finally, we have 100% accuracy and 51% loss.\n",
    "### compared with model 1 and model 2, with one additional unit increased in the layer, the model becomes more complicated and it improved the accuracy score and reduced the loss score. So, in the future, if we want to improve our accuracy score in the model, increase the number of layer could be one of the approach to achieve the goal. "
   ]
  },
  {
   "cell_type": "code",
   "execution_count": 32,
   "id": "4eb58ff7",
   "metadata": {},
   "outputs": [
    {
     "name": "stdout",
     "output_type": "stream",
     "text": [
      "(38, 4)\n",
      "2/2 [==============================] - 0s 11ms/step\n",
      "[[0.06616195 0.4965768  0.4372612 ]\n",
      " [0.86073583 0.08676744 0.05249681]\n",
      " [0.0084225  0.39236993 0.5992075 ]\n",
      " [0.0766665  0.51949275 0.4038406 ]\n",
      " [0.06174653 0.50948584 0.4287677 ]\n",
      " [0.8322254  0.10385507 0.06391954]\n",
      " [0.17362428 0.51026505 0.31611076]\n",
      " [0.04464691 0.54176253 0.41359052]\n",
      " [0.0490751  0.48483154 0.46609324]\n",
      " [0.12151939 0.5137724  0.3647082 ]\n",
      " [0.05052062 0.5276826  0.42179668]\n",
      " [0.8009399  0.11805952 0.08100046]\n",
      " [0.8668227  0.0786254  0.0545518 ]\n",
      " [0.8026093  0.11809609 0.07929457]\n",
      " [0.85964453 0.0848033  0.0555521 ]\n",
      " [0.08602169 0.5341587  0.37981948]\n",
      " [0.02262898 0.46532083 0.51205015]\n",
      " [0.10662705 0.502656   0.3907169 ]\n",
      " [0.07382921 0.5011082  0.42506248]\n",
      " [0.02335541 0.465404   0.5112405 ]\n",
      " [0.7836989  0.13264658 0.08365449]\n",
      " [0.05379206 0.5129922  0.43321568]\n",
      " [0.8034022  0.12273264 0.07386509]\n",
      " [0.02397193 0.46278292 0.51324517]\n",
      " [0.02772576 0.50702643 0.4652478 ]\n",
      " [0.03778692 0.5227046  0.43950853]\n",
      " [0.01930003 0.42790338 0.55279654]\n",
      " [0.02378273 0.4826942  0.49352312]\n",
      " [0.788246   0.12917425 0.08257982]\n",
      " [0.7749426  0.13726752 0.08778993]\n",
      " [0.8523497  0.08190215 0.0657481 ]\n",
      " [0.90061235 0.05920731 0.04018032]\n",
      " [0.10882753 0.53050417 0.3606683 ]\n",
      " [0.811479   0.11619186 0.07232916]\n",
      " [0.8122854  0.11142907 0.07628553]\n",
      " [0.03471308 0.48360613 0.48168078]\n",
      " [0.09897295 0.5363415  0.36468554]\n",
      " [0.84682477 0.09258947 0.06058575]]\n",
      "2/2 [==============================] - 0s 11ms/step\n",
      "[1 0 2 1 1 0 1 1 1 1 1 0 0 0 0 1 2 1 1 2 0 1 0 2 1 1 2 2 0 0 0 0 1 0 0 1 1\n",
      " 0]\n"
     ]
    }
   ],
   "source": [
    "print(X_test.shape)\n",
    "\n",
    "\n",
    "# for predicted probabilities\n",
    "ypreds = model1.predict(X_test)\n",
    "print(ypreds) #gives prediction of each category, largest is selected for predict_classes()\n",
    "\n",
    "\n",
    "# for predicted label index of one hot encoded y data columns\n",
    "# Can use this to return correct label from well ordered list of labels\n",
    "ypreds_classindex = np.argmax(model1.predict(X_test), axis=-1)\n",
    "print(ypreds_classindex) "
   ]
  },
  {
   "cell_type": "markdown",
   "id": "0f450ee1",
   "metadata": {},
   "source": [
    "### this table presented the prediction score in each category. There are total three categories and thirty eight classes in X_set. We can see each class probability under the each category. The highst pobability in one class, we can say that class is categorized in that one. For instance, for first class, the category 2 have the highest probability score so the final index could be 1. \n"
   ]
  },
  {
   "cell_type": "code",
   "execution_count": 33,
   "id": "1b841508",
   "metadata": {},
   "outputs": [
    {
     "name": "stdout",
     "output_type": "stream",
     "text": [
      "(38, 4)\n",
      "2/2 [==============================] - 0s 4ms/step\n",
      "[[0.09054009 0.4893153  0.42014462]\n",
      " [0.7829424  0.13844495 0.07861267]\n",
      " [0.02440004 0.32426253 0.65133744]\n",
      " [0.09287761 0.48905283 0.41806957]\n",
      " [0.08456852 0.5193715  0.39606   ]\n",
      " [0.75044227 0.15930392 0.09025393]\n",
      " [0.17620146 0.4852595  0.3385389 ]\n",
      " [0.05805032 0.4618712  0.4800784 ]\n",
      " [0.07873322 0.46792483 0.45334193]\n",
      " [0.13817303 0.50883335 0.35299352]\n",
      " [0.06462681 0.45676446 0.47860876]\n",
      " [0.7253687  0.17137653 0.10325482]\n",
      " [0.7902175  0.13174653 0.07803596]\n",
      " [0.72611076 0.17155328 0.10233594]\n",
      " [0.78339905 0.13253811 0.08406284]\n",
      " [0.09374615 0.49815637 0.40809762]\n",
      " [0.0410177  0.36791885 0.5910634 ]\n",
      " [0.12804127 0.5057671  0.36619172]\n",
      " [0.0948063  0.47329858 0.4318951 ]\n",
      " [0.04305992 0.37452215 0.582418  ]\n",
      " [0.7045743  0.18315256 0.11227317]\n",
      " [0.07077017 0.44935244 0.4798773 ]\n",
      " [0.72191757 0.17439476 0.10368765]\n",
      " [0.04400324 0.3778286  0.57816815]\n",
      " [0.04211545 0.4562611  0.50162345]\n",
      " [0.05257757 0.43573543 0.51168704]\n",
      " [0.04186239 0.37770742 0.58043015]\n",
      " [0.03939233 0.38084725 0.57976043]\n",
      " [0.71005046 0.18219754 0.10775197]\n",
      " [0.6966946  0.19010346 0.11320196]\n",
      " [0.783421   0.12700424 0.08957475]\n",
      " [0.8317483  0.10251983 0.06573195]\n",
      " [0.12221363 0.5296753  0.348111  ]\n",
      " [0.72994924 0.16672033 0.10333049]\n",
      " [0.7367211  0.15894464 0.10433421]\n",
      " [0.05687805 0.42783198 0.51528996]\n",
      " [0.10775778 0.5153107  0.37693146]\n",
      " [0.7725635  0.14227396 0.08516254]]\n",
      "2/2 [==============================] - 0s 7ms/step\n",
      "[1 0 2 1 1 0 1 2 1 1 2 0 0 0 0 1 2 1 1 2 0 2 0 2 2 2 2 2 0 0 0 0 1 0 0 2 1\n",
      " 0]\n"
     ]
    }
   ],
   "source": [
    "print(X_test.shape)\n",
    "\n",
    "\n",
    "# for predicted probabilities\n",
    "ypreds2 = model2.predict(X_test)\n",
    "print(ypreds2) #gives prediction of each category, largest is selected for predict_classes()\n",
    "\n",
    "\n",
    "# for predicted label index of one hot encoded y data columns\n",
    "# Can use this to return correct label from well ordered list of labels\n",
    "ypreds2_classindex = np.argmax(model2.predict(X_test), axis=-1)\n",
    "print(ypreds2_classindex) \n"
   ]
  },
  {
   "cell_type": "markdown",
   "id": "31b29807",
   "metadata": {},
   "source": [
    "###  We can see each class probability under the each category. The highst pobability in one class, we can say that class is categorized in that one. For instance, for first class, the category 2 have the highest probability score so the final index could be 1. \n",
    "\n",
    "### compared with model 1 and model 2, we can see some classes have different index. Since model 2 is more complicated and have higher accuracy score, we should take model 2's class index to do our future traning. "
   ]
  }
 ],
 "metadata": {
  "kernelspec": {
   "display_name": "Python 3 (ipykernel)",
   "language": "python",
   "name": "python3"
  },
  "language_info": {
   "codemirror_mode": {
    "name": "ipython",
    "version": 3
   },
   "file_extension": ".py",
   "mimetype": "text/x-python",
   "name": "python",
   "nbconvert_exporter": "python",
   "pygments_lexer": "ipython3",
   "version": "3.11.4"
  }
 },
 "nbformat": 4,
 "nbformat_minor": 5
}
